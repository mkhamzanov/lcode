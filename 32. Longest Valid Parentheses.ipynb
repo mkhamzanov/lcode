{
 "cells": [
  {
   "cell_type": "code",
   "execution_count": 59,
   "metadata": {},
   "outputs": [],
   "source": [
    "class Solution:\n",
    "    \n",
    "    dict_tmp = {')':'('}\n",
    "    \n",
    "    def ValidPrentheses(self,s):\n",
    "        check = 0\n",
    "        for i in s:\n",
    "            if i == '(':\n",
    "                check += 1\n",
    "            else:\n",
    "                if check == 0:\n",
    "                    return False\n",
    "                else:\n",
    "                    check -= 1\n",
    "        if check == 0:\n",
    "            return True\n",
    "        else:\n",
    "            return False   \n",
    "    \n",
    "    def longestValidParentheses(self, s):\n",
    "        \"\"\"\n",
    "        :type s: str\n",
    "        :rtype: int\n",
    "        \"\"\"\n",
    "        if len(s)<=1:\n",
    "            return 0\n",
    "        \n",
    "        max_len = 0\n",
    "        \n",
    "        for i in range(len(s)):\n",
    "            for j in range(i,len(s)+1):\n",
    "                if self.ValidPrentheses(s[i:j]) and len(s[i:j])%2 == 0:\n",
    "                    if max_len < len(s[i:j]):\n",
    "                        max_len = len(s[i:j])\n",
    "                        #print(s[i:j], max_len)\n",
    "                        if (len(s) - i) <= max_len:\n",
    "                            return max_len\n",
    "        return max_len\n",
    "        "
   ]
  },
  {
   "cell_type": "code",
   "execution_count": 58,
   "metadata": {},
   "outputs": [
    {
     "data": {
      "text/plain": [
       "12"
      ]
     },
     "execution_count": 58,
     "metadata": {},
     "output_type": "execute_result"
    }
   ],
   "source": [
    "a = Solution()\n",
    "a.longestValidParentheses(')(((((())))))(((((')"
   ]
  },
  {
   "cell_type": "code",
   "execution_count": 68,
   "metadata": {},
   "outputs": [],
   "source": [
    "class Solution:\n",
    "    \n",
    "    dict_tmp = {')':'('}\n",
    "    \n",
    "    def ValidPrentheses(self,s):\n",
    "        check = 0\n",
    "        for i in s:\n",
    "            if i == '(':\n",
    "                check += 1\n",
    "            else:\n",
    "                if check == 0:\n",
    "                    return False\n",
    "                else:\n",
    "                    check -= 1\n",
    "        if check == 0:\n",
    "            return True\n",
    "        else:\n",
    "            return False   \n",
    "    \n",
    "    def longestValidParentheses(self, s):\n",
    "        \"\"\"\n",
    "        :type s: str\n",
    "        :rtype: int\n",
    "        \"\"\"\n",
    "        if len(s)<=1:\n",
    "            return 0\n",
    "        \n",
    "        max_len = 0\n",
    "        \n",
    "        for i in range(len(s)):\n",
    "            for j in range(i,len(s)+1,2):\n",
    "                if self.ValidPrentheses(s[i:j]) and len(s[i:j])%2 == 0:\n",
    "                    print(s[i:j])\n",
    "                    if max_len < len(s[i:j]):\n",
    "                        max_len = len(s[i:j])\n",
    "                        #print(s[i:j], max_len)\n",
    "                        if (len(s) - i) <= max_len:\n",
    "                            return max_len\n",
    "        return max_len\n",
    "        "
   ]
  },
  {
   "cell_type": "code",
   "execution_count": 69,
   "metadata": {},
   "outputs": [
    {
     "name": "stdout",
     "output_type": "stream",
     "text": [
      "\n",
      "\n",
      "(((((())))))\n",
      "\n",
      "((((()))))\n",
      "\n",
      "(((())))\n",
      "\n",
      "((()))\n",
      "\n",
      "(())\n",
      "\n",
      "()\n",
      "\n",
      "\n",
      "\n",
      "\n",
      "\n",
      "\n",
      "\n",
      "\n",
      "\n",
      "\n",
      "\n"
     ]
    },
    {
     "data": {
      "text/plain": [
       "12"
      ]
     },
     "execution_count": 69,
     "metadata": {},
     "output_type": "execute_result"
    }
   ],
   "source": [
    "a = Solution()\n",
    "a.longestValidParentheses(')(((((())))))(((((')"
   ]
  },
  {
   "cell_type": "code",
   "execution_count": null,
   "metadata": {},
   "outputs": [],
   "source": []
  }
 ],
 "metadata": {
  "kernelspec": {
   "display_name": "Python 3",
   "language": "python",
   "name": "python3"
  },
  "language_info": {
   "codemirror_mode": {
    "name": "ipython",
    "version": 3
   },
   "file_extension": ".py",
   "mimetype": "text/x-python",
   "name": "python",
   "nbconvert_exporter": "python",
   "pygments_lexer": "ipython3",
   "version": "3.6.4"
  }
 },
 "nbformat": 4,
 "nbformat_minor": 2
}
