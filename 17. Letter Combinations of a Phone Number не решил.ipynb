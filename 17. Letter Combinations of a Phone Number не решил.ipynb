{
 "cells": [
  {
   "cell_type": "code",
   "execution_count": 23,
   "metadata": {},
   "outputs": [],
   "source": [
    "class Solution:\n",
    "    def letterCombinations(self, digits):\n",
    "        \"\"\"\n",
    "        :type digits: str\n",
    "        :rtype: List[str]\n",
    "        \"\"\"\n",
    "        dict_tmp = {}\n",
    "        dict_tmp[2] = ['a','b','c']\n",
    "        dict_tmp[3] = ['d','e','f']\n",
    "        dict_tmp[4] = ['g','h','i']\n",
    "        dict_tmp[5] = ['j','k','l']\n",
    "        dict_tmp[6] = ['m','n','o']\n",
    "        dict_tmp[7] = ['p','q','r','s']\n",
    "        dict_tmp[8] = ['t','u','v']\n",
    "        dict_tmp[9] = ['x','y','z']\n",
    "        \n",
    "        digits_word = []\n",
    "        for i in digits:\n",
    "            i = int(i)\n",
    "            digits_word.append(dict_tmp[i])\n",
    "        \n",
    "        return digits_word"
   ]
  },
  {
   "cell_type": "code",
   "execution_count": 46,
   "metadata": {},
   "outputs": [],
   "source": [
    "array = [1, 2, 3, 4]"
   ]
  },
  {
   "cell_type": "code",
   "execution_count": 49,
   "metadata": {},
   "outputs": [
    {
     "data": {
      "text/plain": [
       "[[2, 2, 2],\n",
       " [2, 2, 3],\n",
       " [2, 2, 4],\n",
       " [2, 3, 2],\n",
       " [2, 3, 3],\n",
       " [2, 3, 4],\n",
       " [2, 4, 2],\n",
       " [2, 4, 3],\n",
       " [2, 4, 4],\n",
       " [3, 2, 2],\n",
       " [3, 2, 3],\n",
       " [3, 2, 4],\n",
       " [3, 3, 2],\n",
       " [3, 3, 3],\n",
       " [3, 3, 4],\n",
       " [3, 4, 2],\n",
       " [3, 4, 3],\n",
       " [3, 4, 4],\n",
       " [4, 2, 2],\n",
       " [4, 2, 3],\n",
       " [4, 2, 4],\n",
       " [4, 3, 2],\n",
       " [4, 3, 3],\n",
       " [4, 3, 4],\n",
       " [4, 4, 2],\n",
       " [4, 4, 3],\n",
       " [4, 4, 4]]"
      ]
     },
     "execution_count": 49,
     "metadata": {},
     "output_type": "execute_result"
    }
   ],
   "source": [
    "[[a, b, c] for a in array for b in array for c in array]"
   ]
  },
  {
   "cell_type": "code",
   "execution_count": 56,
   "metadata": {},
   "outputs": [],
   "source": [
    "def SubArray(array):\n",
    "    res = []\n",
    "    \n",
    "    \n",
    "    for i in array:\n",
    "        res_tmp = []\n",
    "        array_tmp = array\n",
    "        \n",
    "        res_tmp.append(i)\n",
    "        array_tmp.remove(i)\n",
    "        \n",
    "        for j in array_tmp:\n",
    "            res_tmp.append(i)\n",
    "        res.append(res_tmp)\n",
    "    return res"
   ]
  },
  {
   "cell_type": "code",
   "execution_count": 57,
   "metadata": {},
   "outputs": [
    {
     "data": {
      "text/plain": [
       "[[1, 1, 1, 1], [3, 3, 3]]"
      ]
     },
     "execution_count": 57,
     "metadata": {},
     "output_type": "execute_result"
    }
   ],
   "source": [
    "SubArray([1,2,3,4])"
   ]
  },
  {
   "cell_type": "code",
   "execution_count": 25,
   "metadata": {},
   "outputs": [
    {
     "data": {
      "text/plain": [
       "[['a', 'b', 'c'], ['g', 'h', 'i'], ['j', 'k', 'l']]"
      ]
     },
     "execution_count": 25,
     "metadata": {},
     "output_type": "execute_result"
    }
   ],
   "source": [
    "a = Solution()\n",
    "a.letterCombinations('245')"
   ]
  },
  {
   "cell_type": "code",
   "execution_count": 26,
   "metadata": {},
   "outputs": [
    {
     "ename": "NameError",
     "evalue": "name 'combinations' is not defined",
     "output_type": "error",
     "traceback": [
      "\u001b[1;31m---------------------------------------------------------------------------\u001b[0m",
      "\u001b[1;31mNameError\u001b[0m                                 Traceback (most recent call last)",
      "\u001b[1;32m<ipython-input-26-543e88a33633>\u001b[0m in \u001b[0;36m<module>\u001b[1;34m()\u001b[0m\n\u001b[1;32m----> 1\u001b[1;33m \u001b[0mlist\u001b[0m\u001b[1;33m(\u001b[0m\u001b[0mcombinations\u001b[0m\u001b[1;33m(\u001b[0m\u001b[0mrange\u001b[0m\u001b[1;33m(\u001b[0m\u001b[1;36m4\u001b[0m\u001b[1;33m)\u001b[0m\u001b[1;33m)\u001b[0m\u001b[1;33m)\u001b[0m\u001b[1;33m\u001b[0m\u001b[0m\n\u001b[0m",
      "\u001b[1;31mNameError\u001b[0m: name 'combinations' is not defined"
     ]
    }
   ],
   "source": [
    "list(combinations(range(4)))"
   ]
  },
  {
   "cell_type": "code",
   "execution_count": 39,
   "metadata": {},
   "outputs": [
    {
     "data": {
      "text/plain": [
       "'Fare'"
      ]
     },
     "execution_count": 39,
     "metadata": {},
     "output_type": "execute_result"
    }
   ],
   "source": [
    "import itertools as it\n",
    "all_columns = [\"Fare\", \"Sex\", \"Pclass\", 'Embarked']\n",
    "list(list(it.combinations(all_columns, 2)))[0][0]"
   ]
  },
  {
   "cell_type": "code",
   "execution_count": 40,
   "metadata": {},
   "outputs": [
    {
     "data": {
      "text/plain": [
       "'abcd'"
      ]
     },
     "execution_count": 40,
     "metadata": {},
     "output_type": "execute_result"
    }
   ],
   "source": [
    "from functools import reduce\n",
    "sum_ = reduce(lambda a, x: a + x, ['a', 'b', 'c', 'd'])\n",
    "sum_"
   ]
  },
  {
   "cell_type": "code",
   "execution_count": null,
   "metadata": {},
   "outputs": [],
   "source": []
  }
 ],
 "metadata": {
  "kernelspec": {
   "display_name": "Python 3",
   "language": "python",
   "name": "python3"
  },
  "language_info": {
   "codemirror_mode": {
    "name": "ipython",
    "version": 3
   },
   "file_extension": ".py",
   "mimetype": "text/x-python",
   "name": "python",
   "nbconvert_exporter": "python",
   "pygments_lexer": "ipython3",
   "version": "3.6.4"
  }
 },
 "nbformat": 4,
 "nbformat_minor": 2
}
