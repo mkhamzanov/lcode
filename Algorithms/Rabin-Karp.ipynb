{
 "cells": [
  {
   "cell_type": "markdown",
   "metadata": {},
   "source": [
    "# Rabin-Karp"
   ]
  },
  {
   "cell_type": "code",
   "execution_count": 127,
   "metadata": {},
   "outputs": [
    {
     "name": "stdout",
     "output_type": "stream",
     "text": [
      "Order text:\n",
      "97,98,99,100,97,99,98,101,\n",
      "Order pattern:\n",
      "100,97,99,\n",
      "\n",
      "d is: 5 , h is: 3\n",
      "\n",
      "step: 0 9 1\n",
      "step: 1 0 3\n",
      "step: 2 0 4\n",
      "0 4\n",
      "\n",
      "9 4\n",
      "3 4\n",
      "4 4\n",
      "4 4\n",
      "8 4\n",
      "8 4\n",
      "[3]\n"
     ]
    }
   ],
   "source": [
    "def Rabin_Karp_Matcher(text, pattern, d, q):\n",
    "    print('Order text:')\n",
    "    for s in text:\n",
    "        print(ord(s), end = ',')\n",
    "    print('') \n",
    "    print('Order pattern:')\n",
    "    for s in pattern:\n",
    "        print(ord(s), end = ',')\n",
    "    print('')\n",
    "    \n",
    "    n = len(text)\n",
    "    m = len(pattern)\n",
    "    h = pow(d,m-1)%q\n",
    "    print('\\nd is:',d,', h is:',h)\n",
    "    p = 0\n",
    "    t = 0\n",
    "    result = []\n",
    "    print('')\n",
    "    for i in range(m): # preprocessing\n",
    "        \n",
    "        p = (d*p+ord(pattern[i]))%q\n",
    "        t = (d*t+ord(text[i]))%q\n",
    "        print('step:',i,t,p, )\n",
    "    print(t,p)\n",
    "    print('')\n",
    "    for s in range(n-m+1): # note the +1\n",
    "        \n",
    "        if p == t: # check character by character\n",
    "            match = True\n",
    "            for i in range(m):\n",
    "                if pattern[i] != text[s+i]:\n",
    "                    match = False\n",
    "                    break\n",
    "            if match:\n",
    "                result = result + [s]\n",
    "        if s < n-m:\n",
    "            t = (t-h*ord(text[s]))%q # remove letter s\n",
    "            t = (t*d+ord(text[s+m]))%q # add letter s+m\n",
    "#             t = (t+q)%q # make sure that t >= 0\n",
    "        print(t,p)\n",
    "    return result\n",
    "print (Rabin_Karp_Matcher (\"abcdacbe\", \"dac\", 5, 11))"
   ]
  },
  {
   "cell_type": "markdown",
   "metadata": {},
   "source": [
    "# My realization"
   ]
  },
  {
   "cell_type": "code",
   "execution_count": 128,
   "metadata": {},
   "outputs": [
    {
     "data": {
      "text/plain": [
       "3014"
      ]
     },
     "execution_count": 128,
     "metadata": {},
     "output_type": "execute_result"
    }
   ],
   "source": [
    "def hash_from_s(s,d):\n",
    "    r = 0\n",
    "    n = len(s)\n",
    "    for i in range(n):\n",
    "        r+=ord(s[i])*d**(n-i-1)\n",
    "    return r\n",
    "hash_from_s('abc',5)"
   ]
  },
  {
   "cell_type": "code",
   "execution_count": 129,
   "metadata": {},
   "outputs": [],
   "source": [
    "def Rabin_Karp_Matcher(text, pattern, d, q):\n",
    "    \n",
    "    n,m = len(text), len(pattern)\n",
    "    h = pow(d,m - 1)\n",
    "    t = hash_from_s(text[:len(pattern)],d)\n",
    "    p = hash_from_s(pattern,d)\n",
    "    print(t,p)\n",
    "    \n",
    "    \n",
    "    if t==p:\n",
    "        return 0\n",
    "    \n",
    "    for s in range(n-m):\n",
    "        t+= - ord(text[s])*h\n",
    "        t = t*d + ord(text[s+m])\n",
    "        if t==p:\n",
    "            return s+1\n",
    "        print(t)\n",
    "    "
   ]
  },
  {
   "cell_type": "code",
   "execution_count": 130,
   "metadata": {},
   "outputs": [
    {
     "name": "stdout",
     "output_type": "stream",
     "text": [
      "3014 3066\n",
      "3045\n",
      "3072\n",
      "3084\n",
      "3018\n",
      "5\n"
     ]
    }
   ],
   "source": [
    "print (Rabin_Karp_Matcher (\"abcdacbe\", \"cbe\", 5, 11))"
   ]
  }
 ],
 "metadata": {
  "kernelspec": {
   "display_name": "Python 3",
   "language": "python",
   "name": "python3"
  },
  "language_info": {
   "codemirror_mode": {
    "name": "ipython",
    "version": 3
   },
   "file_extension": ".py",
   "mimetype": "text/x-python",
   "name": "python",
   "nbconvert_exporter": "python",
   "pygments_lexer": "ipython3",
   "version": "3.6.4"
  }
 },
 "nbformat": 4,
 "nbformat_minor": 2
}
