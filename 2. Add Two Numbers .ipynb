{
 "cells": [
  {
   "cell_type": "markdown",
   "metadata": {},
   "source": [
    "# 2. Add Two Numbers"
   ]
  },
  {
   "cell_type": "code",
   "execution_count": 1,
   "metadata": {},
   "outputs": [],
   "source": [
    "# Definition for singly-linked list.\n",
    "# class ListNode:\n",
    "#     def __init__(self, x):\n",
    "#         self.val = x\n",
    "#         self.next = None\n",
    "\n",
    "\n",
    "\n",
    "class Solution:\n",
    "    def addTwoNumbers(self, l1, l2):\n",
    "        \"\"\"\n",
    "        :type l1: ListNode\n",
    "        :type l2: ListNode\n",
    "        :rtype: ListNode\n",
    "        \"\"\"\n",
    "        prev = l1\n",
    "        current = l1.next\n",
    "        l1_val = str(prev.val)\n",
    "        while current is not None:\n",
    "            l1_val += str(current.val)\n",
    "            current = current.next\n",
    "            \n",
    "        l1_val = str(l1_val)    \n",
    "        print(l1_val, type(l1_val))\n",
    "        l1_val = l1_val[::-1]\n",
    "        print(l1_val, type(l1_val),'\\n')\n",
    "        \n",
    "        prev = l2\n",
    "        current = l2.next\n",
    "        l2_val = str(prev.val)\n",
    "        while current is not None:\n",
    "            l2_val += str(current.val)\n",
    "            current = current.next \n",
    "            \n",
    "        print(l2_val, type(l2_val))\n",
    "        l2_val = l2_val[::-1]\n",
    "        print(l2_val, type(l2_val))\n",
    "        \n",
    "        result = str(int(l1_val) + int(l2_val))\n",
    "        \n",
    "        result = result[::-1]\n",
    "        \n",
    "        print(result)\n",
    "        a = ListNode(result[0])\n",
    "        curr = a\n",
    "        for i in range(1,len(result)):\n",
    "            curr.next = ListNode(str(result[i]))\n",
    "            curr = curr.next\n",
    "        return a\n",
    "        "
   ]
  },
  {
   "cell_type": "code",
   "execution_count": null,
   "metadata": {},
   "outputs": [],
   "source": []
  }
 ],
 "metadata": {
  "kernelspec": {
   "display_name": "Python 3",
   "language": "python",
   "name": "python3"
  },
  "language_info": {
   "codemirror_mode": {
    "name": "ipython",
    "version": 3
   },
   "file_extension": ".py",
   "mimetype": "text/x-python",
   "name": "python",
   "nbconvert_exporter": "python",
   "pygments_lexer": "ipython3",
   "version": "3.6.4"
  }
 },
 "nbformat": 4,
 "nbformat_minor": 2
}
