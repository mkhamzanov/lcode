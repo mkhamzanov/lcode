{
 "cells": [
  {
   "cell_type": "code",
   "execution_count": 91,
   "metadata": {},
   "outputs": [],
   "source": [
    "class Solution:\n",
    "    def lengthOfLongestSubstring(self, s):\n",
    "        \"\"\"\n",
    "        :type s: str\n",
    "        :rtype: int\n",
    "        \"\"\"\n",
    "        if len(s)<=1:\n",
    "            return len(s)\n",
    "        len_of_tmp_ss = [0]\n",
    "        for i in range(len(s)):\n",
    "            print('\\n', s[i])\n",
    "            tmp_s = s[i:]\n",
    "            \n",
    "            if max(len_of_tmp_ss) > len(tmp_s):\n",
    "                return max(len_of_tmp_ss)\n",
    "            \n",
    "            if len(tmp_s) == 1:\n",
    "                len_of_tmp_ss.append(0)\n",
    "            else:\n",
    "                ss = ''\n",
    "                for i in tmp_s:\n",
    "                    if i not in ss:\n",
    "                        ss += i\n",
    "                    else:\n",
    "                        break\n",
    "                    print(ss, '\\t',len(ss))\n",
    "                    len_of_tmp_ss.append(len(ss))\n",
    "        return max(len_of_tmp_ss)"
   ]
  },
  {
   "cell_type": "code",
   "execution_count": 92,
   "metadata": {},
   "outputs": [
    {
     "name": "stdout",
     "output_type": "stream",
     "text": [
      "\n",
      " q\n",
      "q \t 1\n",
      "qw \t 2\n",
      "qwe \t 3\n",
      "qwer \t 4\n",
      "qwert \t 5\n",
      "qwerty \t 6\n",
      "qwertyu \t 7\n",
      "\n",
      " w\n",
      "w \t 1\n",
      "we \t 2\n",
      "wer \t 3\n",
      "wert \t 4\n",
      "werty \t 5\n",
      "wertyu \t 6\n",
      "wertyuq \t 7\n",
      "\n",
      " e\n",
      "e \t 1\n",
      "er \t 2\n",
      "ert \t 3\n",
      "erty \t 4\n",
      "ertyu \t 5\n",
      "ertyuq \t 6\n",
      "ertyuqw \t 7\n",
      "\n",
      " r\n",
      "r \t 1\n",
      "rt \t 2\n",
      "rty \t 3\n",
      "rtyu \t 4\n",
      "rtyuq \t 5\n",
      "rtyuqw \t 6\n",
      "rtyuqwe \t 7\n",
      "\n",
      " t\n"
     ]
    },
    {
     "data": {
      "text/plain": [
       "7"
      ]
     },
     "execution_count": 92,
     "metadata": {},
     "output_type": "execute_result"
    }
   ],
   "source": [
    "a = Solution()\n",
    "a.lengthOfLongestSubstring('qwertyuqwe')"
   ]
  },
  {
   "cell_type": "code",
   "execution_count": null,
   "metadata": {},
   "outputs": [],
   "source": []
  }
 ],
 "metadata": {
  "kernelspec": {
   "display_name": "Python 3",
   "language": "python",
   "name": "python3"
  },
  "language_info": {
   "codemirror_mode": {
    "name": "ipython",
    "version": 3
   },
   "file_extension": ".py",
   "mimetype": "text/x-python",
   "name": "python",
   "nbconvert_exporter": "python",
   "pygments_lexer": "ipython3",
   "version": "3.6.4"
  }
 },
 "nbformat": 4,
 "nbformat_minor": 2
}
