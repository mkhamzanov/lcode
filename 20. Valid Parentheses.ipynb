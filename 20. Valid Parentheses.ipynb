{
 "cells": [
  {
   "cell_type": "markdown",
   "metadata": {},
   "source": [
    "# Complexity"
   ]
  },
  {
   "cell_type": "code",
   "execution_count": 280,
   "metadata": {},
   "outputs": [],
   "source": [
    "class Solution:\n",
    "    def isValid(self, s):\n",
    "        \"\"\"\n",
    "        :type s: str\n",
    "        :rtype: bool\n",
    "        \"\"\"\n",
    "        dict_tmp = {']':'[',\n",
    "                   '}':'{',\n",
    "                   ')':'('}\n",
    "        a = []\n",
    "        \n",
    "        if len(s)==0:\n",
    "            return True\n",
    "        elif len(s)%2!=0:\n",
    "            return False\n",
    "        else:\n",
    "            for i in s:\n",
    "                answer = False\n",
    "                #print('append',i)\n",
    "                if i in dict_tmp.values():\n",
    "                    a.append(i)\n",
    "                    #print(a)\n",
    "                else:\n",
    "                    if len(a) == 0:\n",
    "                        return False\n",
    "                    else:\n",
    "                        #print('check',dict_tmp[i],a[-1])\n",
    "                        if dict_tmp[i] == a[-1]:\n",
    "                            #print('check',dict_tmp[i],a[-1])\n",
    "                            answer = True\n",
    "                            #print('udalit')\n",
    "                            a.pop()\n",
    "                        else:\n",
    "                            answer = False\n",
    "                            return False\n",
    "            return answer"
   ]
  },
  {
   "cell_type": "code",
   "execution_count": 281,
   "metadata": {},
   "outputs": [
    {
     "data": {
      "text/plain": [
       "False"
      ]
     },
     "execution_count": 281,
     "metadata": {},
     "output_type": "execute_result"
    }
   ],
   "source": [
    "a = Solution()\n",
    "a.isValid(\"(()\")"
   ]
  }
 ],
 "metadata": {
  "kernelspec": {
   "display_name": "Python 3",
   "language": "python",
   "name": "python3"
  },
  "language_info": {
   "codemirror_mode": {
    "name": "ipython",
    "version": 3
   },
   "file_extension": ".py",
   "mimetype": "text/x-python",
   "name": "python",
   "nbconvert_exporter": "python",
   "pygments_lexer": "ipython3",
   "version": "3.6.4"
  }
 },
 "nbformat": 4,
 "nbformat_minor": 2
}
