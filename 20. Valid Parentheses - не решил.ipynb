{
 "cells": [
  {
   "cell_type": "code",
   "execution_count": 42,
   "metadata": {},
   "outputs": [],
   "source": [
    "class Solution:\n",
    "    def isValid(self, s):\n",
    "        \"\"\"\n",
    "        :type s: str\n",
    "        :rtype: bool\n",
    "        \"\"\"\n",
    "        answer = False\n",
    "        \n",
    "        if len(s)==0:\n",
    "            return answer\n",
    "        i = 0\n",
    "        x_sum = 0\n",
    "        y_sum = 0\n",
    "        z_sum = 0\n",
    "        \n",
    "        while i<len(s):\n",
    "                if s[i] == '(':\n",
    "                    x_sum += 1\n",
    "                \n",
    "                elif s[i] == '[':\n",
    "                    y_sum += 1\n",
    "                \n",
    "                elif s[i] =='{':\n",
    "                    z_sum +=1\n",
    "                    \n",
    "                elif s[i] ==')':\n",
    "                    x_sum -=1\n",
    "                    \n",
    "                elif s[i] ==']':\n",
    "                    y_sum -=1\n",
    "                    \n",
    "                else:\n",
    "                    z_sum -=1\n",
    "                i +=1\n",
    "                print(x_sum,y_sum,z_sum)\n",
    "                    \n",
    "                if (x_sum<0) or (y_sum<0) or (z_sum<0):\n",
    "                    answer = False\n",
    "                    break\n",
    "        if (x_sum==0) and (y_sum==0) and (z_sum==0):\n",
    "            answer = True\n",
    "            \n",
    "        return answer\n",
    "            "
   ]
  },
  {
   "cell_type": "code",
   "execution_count": 43,
   "metadata": {},
   "outputs": [
    {
     "name": "stdout",
     "output_type": "stream",
     "text": [
      "1 0 0\n",
      "1 1 0\n",
      "0 1 0\n",
      "0 0 0\n"
     ]
    },
    {
     "data": {
      "text/plain": [
       "True"
      ]
     },
     "execution_count": 43,
     "metadata": {},
     "output_type": "execute_result"
    }
   ],
   "source": [
    "a = Solution()\n",
    "a.isValid(\"([)]\")"
   ]
  },
  {
   "cell_type": "code",
   "execution_count": 41,
   "metadata": {},
   "outputs": [
    {
     "ename": "NameError",
     "evalue": "name 'stack' is not defined",
     "output_type": "error",
     "traceback": [
      "\u001b[1;31m---------------------------------------------------------------------------\u001b[0m",
      "\u001b[1;31mNameError\u001b[0m                                 Traceback (most recent call last)",
      "\u001b[1;32m<ipython-input-41-7f504956832e>\u001b[0m in \u001b[0;36m<module>\u001b[1;34m()\u001b[0m\n\u001b[1;32m----> 1\u001b[1;33m \u001b[0mstack\u001b[0m\u001b[1;33m\u001b[0m\u001b[0m\n\u001b[0m",
      "\u001b[1;31mNameError\u001b[0m: name 'stack' is not defined"
     ]
    }
   ],
   "source": [
    "stack"
   ]
  },
  {
   "cell_type": "code",
   "execution_count": null,
   "metadata": {},
   "outputs": [],
   "source": []
  }
 ],
 "metadata": {
  "kernelspec": {
   "display_name": "Python 3",
   "language": "python",
   "name": "python3"
  },
  "language_info": {
   "codemirror_mode": {
    "name": "ipython",
    "version": 3
   },
   "file_extension": ".py",
   "mimetype": "text/x-python",
   "name": "python",
   "nbconvert_exporter": "python",
   "pygments_lexer": "ipython3",
   "version": "3.6.4"
  }
 },
 "nbformat": 4,
 "nbformat_minor": 2
}
