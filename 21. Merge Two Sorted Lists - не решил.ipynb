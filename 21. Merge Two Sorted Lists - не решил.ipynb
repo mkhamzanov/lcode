{
 "cells": [
  {
   "cell_type": "code",
   "execution_count": 57,
   "metadata": {},
   "outputs": [],
   "source": [
    "class ListNode():\n",
    "    def __init__(self, x):\n",
    "        self.val = x\n",
    "        self.next = None\n",
    "\n",
    "class Solution():\n",
    "    def mergeTwoLists(self, l1, l2):\n",
    "        \"\"\"\n",
    "        :type l1: ListNode\n",
    "        :type l2: ListNode\n",
    "        :rtype: ListNode\n",
    "        \"\"\"\n",
    "        if l1 == None:\n",
    "            return l2\n",
    "        if l2 == None:\n",
    "            return l1\n",
    "            \n",
    "        if l1.val <= l2.val:\n",
    "            head = l1 \n",
    "            head.next = self.mergeTwoLists(l1.next, l2)\n",
    "        else:\n",
    "            head = l2\n",
    "            head.next = self.mergeTwoLists(l1, l2.next)\n",
    "        return head "
   ]
  },
  {
   "cell_type": "code",
   "execution_count": 52,
   "metadata": {},
   "outputs": [
    {
     "name": "stdout",
     "output_type": "stream",
     "text": [
      "1\n",
      "2\n",
      "3\n",
      "None\n"
     ]
    }
   ],
   "source": [
    "a1 = ListNode(1)\n",
    "a2 = ListNode(2)\n",
    "a3 = ListNode(3)\n",
    "a1.next = a2\n",
    "a2.next = a3\n",
    "a = a1\n",
    "print(a.val)\n",
    "print(a.next.val)\n",
    "print(a.next.next.val)\n",
    "print(a.next.next.next)"
   ]
  },
  {
   "cell_type": "code",
   "execution_count": 53,
   "metadata": {},
   "outputs": [
    {
     "name": "stdout",
     "output_type": "stream",
     "text": [
      "4\n",
      "5\n",
      "6\n",
      "None\n"
     ]
    }
   ],
   "source": [
    "b1 = ListNode(4)\n",
    "b2 = ListNode(5)\n",
    "b3 = ListNode(6)\n",
    "b1.next = b2\n",
    "b2.next = b3\n",
    "b = b1\n",
    "print(b.val)\n",
    "print(b.next.val)\n",
    "print(b.next.next.val)\n",
    "print(b.next.next.next)"
   ]
  },
  {
   "cell_type": "code",
   "execution_count": 60,
   "metadata": {},
   "outputs": [
    {
     "name": "stdout",
     "output_type": "stream",
     "text": [
      "<__main__.ListNode object at 0x000001BB1DDDAAC8>\n"
     ]
    }
   ],
   "source": [
    "sol = Solution()\n",
    "print(sol.mergeTwoLists(a,b))"
   ]
  },
  {
   "cell_type": "code",
   "execution_count": null,
   "metadata": {},
   "outputs": [],
   "source": []
  }
 ],
 "metadata": {
  "kernelspec": {
   "display_name": "Python 3",
   "language": "python",
   "name": "python3"
  },
  "language_info": {
   "codemirror_mode": {
    "name": "ipython",
    "version": 3
   },
   "file_extension": ".py",
   "mimetype": "text/x-python",
   "name": "python",
   "nbconvert_exporter": "python",
   "pygments_lexer": "ipython3",
   "version": "3.6.4"
  }
 },
 "nbformat": 4,
 "nbformat_minor": 2
}
