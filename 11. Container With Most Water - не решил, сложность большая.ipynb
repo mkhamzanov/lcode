{
 "cells": [
  {
   "cell_type": "markdown",
   "metadata": {},
   "source": [
    "# First solution"
   ]
  },
  {
   "cell_type": "code",
   "execution_count": 2,
   "metadata": {},
   "outputs": [],
   "source": [
    "mas = [1, 8, 6, 2, 5, 4, 8, 3, 7]\n",
    "mas = [2,3,4,5,18,17,6]"
   ]
  },
  {
   "cell_type": "code",
   "execution_count": 3,
   "metadata": {},
   "outputs": [],
   "source": [
    "class Solution:\n",
    "    def maxArea(self,height):\n",
    "        h, n = height, len(height)\n",
    "        \n",
    "        i = 1\n",
    "        a = h[0]\n",
    "        b = h[-1]\n",
    "        area = min(a,b)*(n-1)\n",
    "        while i < n:\n",
    "            if h[i] >= a and h[-1-i]>=b:\n",
    "                area_tmp = min(a,b)*(n-1-i)\n",
    "                a = h[i]\n",
    "                b = h[-1-i]\n",
    "            if h[i] >= a and h[-1-i] < b:\n",
    "                area_tmp = min(a,b)*(n-1-i)\n",
    "                a = h[i]\n",
    "            elif h[i] < a and h[-1-i] >= b:\n",
    "                area_tmp = min(a,b)*(n-1-i)\n",
    "                b = h[-1-i]\n",
    "            else:\n",
    "                a = h[i]\n",
    "            \n",
    "                \n",
    "                \n",
    "            \n",
    "            area_tmp = h[i] * (n-i-1)\n",
    "            \n",
    "            if area_tmp>area: area = area_tmp\n",
    "            print(a,b)\n",
    "            i +=1\n",
    "            \n",
    "        return area"
   ]
  },
  {
   "cell_type": "code",
   "execution_count": 4,
   "metadata": {},
   "outputs": [
    {
     "name": "stdout",
     "output_type": "stream",
     "text": [
      "3 17\n",
      "4 18\n",
      "5 18\n",
      "18 18\n",
      "17 18\n",
      "6 18\n"
     ]
    },
    {
     "data": {
      "text/plain": [
       "36"
      ]
     },
     "execution_count": 4,
     "metadata": {},
     "output_type": "execute_result"
    }
   ],
   "source": [
    "a = Solution()\n",
    "a.maxArea(mas)"
   ]
  },
  {
   "cell_type": "markdown",
   "metadata": {},
   "source": [
    "# Time error"
   ]
  },
  {
   "cell_type": "code",
   "execution_count": 5,
   "metadata": {},
   "outputs": [],
   "source": [
    "class Solution:\n",
    "    def maxArea(self,height):\n",
    "        n = len(height)\n",
    "        cont_size = 0\n",
    "        for i in range(n-1):\n",
    "            for j in range(i+1,n):\n",
    "                \n",
    "                if height[i]>=height[j]:\n",
    "                    tmp = (height[j]) * abs(j - i)\n",
    "                else:\n",
    "                    tmp = (height[i]) * abs(j - i)\n",
    "                \n",
    "                if tmp > cont_size: cont_size = tmp\n",
    "                    \n",
    "                #print(\"({},{})\\t({},{})\\t{}\\t{}\".format(i,j,height[i],height[j],tmp,abs(j - i)))\n",
    "                    \n",
    "        return cont_size"
   ]
  },
  {
   "cell_type": "code",
   "execution_count": 6,
   "metadata": {},
   "outputs": [
    {
     "data": {
      "text/plain": [
       "17"
      ]
     },
     "execution_count": 6,
     "metadata": {},
     "output_type": "execute_result"
    }
   ],
   "source": [
    "a = Solution()\n",
    "a.maxArea(mas)"
   ]
  },
  {
   "cell_type": "code",
   "execution_count": null,
   "metadata": {},
   "outputs": [],
   "source": []
  }
 ],
 "metadata": {
  "kernelspec": {
   "display_name": "Python 3",
   "language": "python",
   "name": "python3"
  },
  "language_info": {
   "codemirror_mode": {
    "name": "ipython",
    "version": 3
   },
   "file_extension": ".py",
   "mimetype": "text/x-python",
   "name": "python",
   "nbconvert_exporter": "python",
   "pygments_lexer": "ipython3",
   "version": "3.6.4"
  }
 },
 "nbformat": 4,
 "nbformat_minor": 2
}
