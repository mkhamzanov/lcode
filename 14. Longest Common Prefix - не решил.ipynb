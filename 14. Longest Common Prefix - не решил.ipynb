{
 "cells": [
  {
   "cell_type": "code",
   "execution_count": null,
   "metadata": {},
   "outputs": [],
   "source": [
    "class Solution:\n",
    "    def longestCommonPrefix(self, strs):\n",
    "        \"\"\"\n",
    "        :type strs: List[str]\n",
    "        :rtype: str\n",
    "        \"\"\"\n",
    "        \n",
    "        if len(strs)==0:\n",
    "            return ''\n",
    "        elif len(strs)==1:\n",
    "            return strs[0]\n",
    "        elif len(list(set(strs)))==1:\n",
    "            return strs[0]\n",
    "        else:\n",
    "        \n",
    "            pref_max_size = min([len(x) for x in strs])\n",
    "            i = 1\n",
    "            j = 0\n",
    "            pr_list_len = 0\n",
    "            \n",
    "            while i < pref_max_size+1 and pr_list_len<2:\n",
    "                pr_list = []\n",
    "                j = 0\n",
    "                while j < len(strs):\n",
    "                    pr_list.append(strs[j][0:i])\n",
    "                    j += 1   \n",
    "                set_pr_list = list(set(pr_list))\n",
    "                pr_list_len = len(set_pr_list)\n",
    "                i += 1\n",
    "            return strs[j-1][0:i-1]"
   ]
  },
  {
   "cell_type": "code",
   "execution_count": null,
   "metadata": {},
   "outputs": [],
   "source": [
    "a = Solution()\n",
    "a.longestCommonPrefix(['aa','aaa', 'asd'])"
   ]
  },
  {
   "cell_type": "code",
   "execution_count": null,
   "metadata": {},
   "outputs": [],
   "source": [
    "[]"
   ]
  },
  {
   "cell_type": "code",
   "execution_count": null,
   "metadata": {},
   "outputs": [],
   "source": []
  }
 ],
 "metadata": {
  "kernelspec": {
   "display_name": "Python 3",
   "language": "python",
   "name": "python3"
  },
  "language_info": {
   "codemirror_mode": {
    "name": "ipython",
    "version": 3
   },
   "file_extension": ".py",
   "mimetype": "text/x-python",
   "name": "python",
   "nbconvert_exporter": "python",
   "pygments_lexer": "ipython3",
   "version": "3.6.4"
  }
 },
 "nbformat": 4,
 "nbformat_minor": 2
}
